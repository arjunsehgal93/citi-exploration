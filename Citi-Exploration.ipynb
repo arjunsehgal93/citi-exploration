{
 "cells": [
  {
   "cell_type": "markdown",
   "metadata": {},
   "source": [
    "<center><font color='orange'> \n",
    "# CITIBIKE DATA EXPLORATION\n",
    "</font>\n",
    "<img src='https://inhabitat.com/nyc/wp-content/blogs.dir/2/files/2013/04/citi-bike-share-1-e1366036215458.jpg', height=300, width=500></center>\n",
    "<br>\n",
    "Firstly Load the Data in the CitiBike Folder into a dataframe.\n",
    "\n",
    "We will use two dataframes, one for 2014 and one for 2015. Later in the project, we;ll decide whether to merge these into one or to keep them separate. "
   ]
  },
  {
   "cell_type": "code",
   "execution_count": null,
   "metadata": {
    "collapsed": false
   },
   "outputs": [],
   "source": []
  },
  {
   "cell_type": "code",
   "execution_count": 11,
   "metadata": {
    "collapsed": false
   },
   "outputs": [
    {
     "name": "stdout",
     "output_type": "stream",
     "text": [
      "CPU times: user 1.37 ms, sys: 563 µs, total: 1.93 ms\n",
      "Wall time: 1.77 ms\n"
     ]
    }
   ],
   "source": [
    "%%time\n",
    "import numpy as np\n",
    "import pandas as pd\n",
    "import matplotlib.pyplot as plt\n",
    "import seaborn as sns\n",
    "%matplotlib inline\n",
    "import time "
   ]
  },
  {
   "cell_type": "code",
   "execution_count": null,
   "metadata": {
    "collapsed": true
   },
   "outputs": [],
   "source": []
  },
  {
   "cell_type": "code",
   "execution_count": 12,
   "metadata": {
    "collapsed": false
   },
   "outputs": [
    {
     "name": "stdout",
     "output_type": "stream",
     "text": [
      "CPU times: user 24 s, sys: 2.84 s, total: 26.9 s\n",
      "Wall time: 28.7 s\n"
     ]
    }
   ],
   "source": [
    "%%time\n",
    "citiBike2014_4 = pd.read_csv('Citi_Bike/2014-04 - Citi Bike trip data.csv')\n",
    "citiBike2014_5 = pd.read_csv('Citi_Bike/2014-05 - Citi Bike trip data.csv')\n",
    "citiBike2014_6 = pd.read_csv('Citi_Bike/2014-06 - Citi Bike trip data.csv')\n",
    "citiBike2014_7 = pd.read_csv('Citi_Bike/2014-07 - Citi Bike trip data.csv')\n",
    "citiBike2014_8 = pd.read_csv('Citi_Bike/2014-08 - Citi Bike trip data.csv')\n",
    "citiBike2014_9 = pd.read_csv('Citi_Bike/201409-citibike-tripdata.csv')\n",
    "citiBike2015_1 = pd.read_csv('Citi_Bike/201501-citibike-tripdata.csv')\n",
    "citiBike2015_2 = pd.read_csv('Citi_Bike/201502-citibike-tripdata.csv')\n",
    "citiBike2015_3 = pd.read_csv('Citi_Bike/201503-citibike-tripdata.csv')\n",
    "citiBike2015_4 = pd.read_csv('Citi_Bike/201504-citibike-tripdata.csv')\n",
    "citiBike2015_5 = pd.read_csv('Citi_Bike/201505-citibike-tripdata.csv')\n",
    "citiBike2015_6 = pd.read_csv('Citi_Bike/201506-citibike-tripdata.csv')"
   ]
  },
  {
   "cell_type": "markdown",
   "metadata": {},
   "source": [
    "Once the data has been loaded from different files, we will combine them into a single Dataframe using the <b>concat method."
   ]
  },
  {
   "cell_type": "code",
   "execution_count": 13,
   "metadata": {
    "collapsed": false
   },
   "outputs": [
    {
     "name": "stdout",
     "output_type": "stream",
     "text": [
      "CPU times: user 1.92 s, sys: 4.26 s, total: 6.17 s\n",
      "Wall time: 8.16 s\n"
     ]
    }
   ],
   "source": [
    "%%time\n",
    "citiBike_2014_list = [citiBike2014_4, citiBike2014_5, citiBike2014_6, citiBike2014_7, citiBike2014_8, citiBike2014_9]\n",
    "citiBike_2015_list = [citiBike2015_1, citiBike2015_2, citiBike2015_3, citiBike2015_4, citiBike2015_5, citiBike2015_6]\n",
    "\n",
    "citiBike_2014 = pd.concat(citiBike_2014_list)\n",
    "citiBike_2015 = pd.concat(citiBike_2015_list)"
   ]
  },
  {
   "cell_type": "markdown",
   "metadata": {},
   "source": [
    "We'll concatenate the two dataframes by adding the column Years to both of them. Then we'll change the format of the trip start and stop from object to datetime "
   ]
  },
  {
   "cell_type": "code",
   "execution_count": 14,
   "metadata": {
    "collapsed": false
   },
   "outputs": [
    {
     "name": "stdout",
     "output_type": "stream",
     "text": [
      "CPU times: user 87.2 ms, sys: 59.4 ms, total: 147 ms\n",
      "Wall time: 258 ms\n"
     ]
    }
   ],
   "source": [
    "%%time\n",
    "citiBike_2014['year'] = 2014\n",
    "citiBike_2015['year'] = 2015"
   ]
  },
  {
   "cell_type": "markdown",
   "metadata": {},
   "source": [
    "### INITIAL DATA EXPLORATION\n",
    "Let's have a look at the data frame using the <B>head command</B> to get a feel of the dataset and the types of values. "
   ]
  },
  {
   "cell_type": "code",
   "execution_count": 5,
   "metadata": {
    "collapsed": false
   },
   "outputs": [
    {
     "data": {
      "text/html": [
       "<div>\n",
       "<table border=\"1\" class=\"dataframe\">\n",
       "  <thead>\n",
       "    <tr style=\"text-align: right;\">\n",
       "      <th></th>\n",
       "      <th>tripduration</th>\n",
       "      <th>starttime</th>\n",
       "      <th>stoptime</th>\n",
       "      <th>start station id</th>\n",
       "      <th>start station name</th>\n",
       "      <th>start station latitude</th>\n",
       "      <th>start station longitude</th>\n",
       "      <th>end station id</th>\n",
       "      <th>end station name</th>\n",
       "      <th>end station latitude</th>\n",
       "      <th>end station longitude</th>\n",
       "      <th>bikeid</th>\n",
       "      <th>usertype</th>\n",
       "      <th>birth year</th>\n",
       "      <th>gender</th>\n",
       "      <th>year</th>\n",
       "    </tr>\n",
       "  </thead>\n",
       "  <tbody>\n",
       "    <tr>\n",
       "      <th>0</th>\n",
       "      <td>558</td>\n",
       "      <td>2014-04-01 00:00:07</td>\n",
       "      <td>2014-04-01 00:09:25</td>\n",
       "      <td>82</td>\n",
       "      <td>St James Pl &amp; Pearl St</td>\n",
       "      <td>40.711174</td>\n",
       "      <td>-74.000165</td>\n",
       "      <td>2008</td>\n",
       "      <td>Little West St &amp; 1 Pl</td>\n",
       "      <td>40.705693</td>\n",
       "      <td>-74.016777</td>\n",
       "      <td>21062</td>\n",
       "      <td>Subscriber</td>\n",
       "      <td>1982</td>\n",
       "      <td>1</td>\n",
       "      <td>2014</td>\n",
       "    </tr>\n",
       "    <tr>\n",
       "      <th>1</th>\n",
       "      <td>882</td>\n",
       "      <td>2014-04-01 00:00:20</td>\n",
       "      <td>2014-04-01 00:15:02</td>\n",
       "      <td>349</td>\n",
       "      <td>Rivington St &amp; Ridge St</td>\n",
       "      <td>40.718502</td>\n",
       "      <td>-73.983299</td>\n",
       "      <td>312</td>\n",
       "      <td>Allen St &amp; E Houston St</td>\n",
       "      <td>40.722055</td>\n",
       "      <td>-73.989111</td>\n",
       "      <td>20229</td>\n",
       "      <td>Subscriber</td>\n",
       "      <td>1988</td>\n",
       "      <td>1</td>\n",
       "      <td>2014</td>\n",
       "    </tr>\n",
       "    <tr>\n",
       "      <th>2</th>\n",
       "      <td>587</td>\n",
       "      <td>2014-04-01 00:00:25</td>\n",
       "      <td>2014-04-01 00:10:12</td>\n",
       "      <td>293</td>\n",
       "      <td>Lafayette St &amp; E 8 St</td>\n",
       "      <td>40.730287</td>\n",
       "      <td>-73.990765</td>\n",
       "      <td>334</td>\n",
       "      <td>W 20 St &amp; 7 Ave</td>\n",
       "      <td>40.742388</td>\n",
       "      <td>-73.997262</td>\n",
       "      <td>20922</td>\n",
       "      <td>Subscriber</td>\n",
       "      <td>1959</td>\n",
       "      <td>1</td>\n",
       "      <td>2014</td>\n",
       "    </tr>\n",
       "  </tbody>\n",
       "</table>\n",
       "</div>"
      ],
      "text/plain": [
       "   tripduration            starttime             stoptime  start station id  \\\n",
       "0           558  2014-04-01 00:00:07  2014-04-01 00:09:25                82   \n",
       "1           882  2014-04-01 00:00:20  2014-04-01 00:15:02               349   \n",
       "2           587  2014-04-01 00:00:25  2014-04-01 00:10:12               293   \n",
       "\n",
       "        start station name  start station latitude  start station longitude  \\\n",
       "0   St James Pl & Pearl St               40.711174               -74.000165   \n",
       "1  Rivington St & Ridge St               40.718502               -73.983299   \n",
       "2    Lafayette St & E 8 St               40.730287               -73.990765   \n",
       "\n",
       "   end station id         end station name  end station latitude  \\\n",
       "0            2008    Little West St & 1 Pl             40.705693   \n",
       "1             312  Allen St & E Houston St             40.722055   \n",
       "2             334          W 20 St & 7 Ave             40.742388   \n",
       "\n",
       "   end station longitude  bikeid    usertype birth year  gender  year  \n",
       "0             -74.016777   21062  Subscriber       1982       1  2014  \n",
       "1             -73.989111   20229  Subscriber       1988       1  2014  \n",
       "2             -73.997262   20922  Subscriber       1959       1  2014  "
      ]
     },
     "execution_count": 5,
     "metadata": {},
     "output_type": "execute_result"
    }
   ],
   "source": [
    "citiBike_2014.head(3)"
   ]
  },
  {
   "cell_type": "markdown",
   "metadata": {},
   "source": [
    "Let's have a look at the table citiBike_2014 data by using the <B>describe command</B>. "
   ]
  },
  {
   "cell_type": "code",
   "execution_count": 6,
   "metadata": {
    "collapsed": false
   },
   "outputs": [
    {
     "data": {
      "text/html": [
       "<div>\n",
       "<table border=\"1\" class=\"dataframe\">\n",
       "  <thead>\n",
       "    <tr style=\"text-align: right;\">\n",
       "      <th></th>\n",
       "      <th>tripduration</th>\n",
       "      <th>start station id</th>\n",
       "      <th>start station latitude</th>\n",
       "      <th>start station longitude</th>\n",
       "      <th>end station id</th>\n",
       "      <th>end station latitude</th>\n",
       "      <th>end station longitude</th>\n",
       "      <th>bikeid</th>\n",
       "      <th>gender</th>\n",
       "      <th>year</th>\n",
       "    </tr>\n",
       "  </thead>\n",
       "  <tbody>\n",
       "    <tr>\n",
       "      <th>count</th>\n",
       "      <td>5.359995e+06</td>\n",
       "      <td>5.359995e+06</td>\n",
       "      <td>5.359995e+06</td>\n",
       "      <td>5.359995e+06</td>\n",
       "      <td>5.359995e+06</td>\n",
       "      <td>5.359995e+06</td>\n",
       "      <td>5.359995e+06</td>\n",
       "      <td>5.359995e+06</td>\n",
       "      <td>5.359995e+06</td>\n",
       "      <td>5359995.0</td>\n",
       "    </tr>\n",
       "    <tr>\n",
       "      <th>mean</th>\n",
       "      <td>8.765660e+02</td>\n",
       "      <td>4.517112e+02</td>\n",
       "      <td>4.073435e+01</td>\n",
       "      <td>-7.399125e+01</td>\n",
       "      <td>4.513339e+02</td>\n",
       "      <td>4.073406e+01</td>\n",
       "      <td>-7.399136e+01</td>\n",
       "      <td>1.813856e+04</td>\n",
       "      <td>1.086643e+00</td>\n",
       "      <td>2014.0</td>\n",
       "    </tr>\n",
       "    <tr>\n",
       "      <th>std</th>\n",
       "      <td>2.908049e+03</td>\n",
       "      <td>3.731625e+02</td>\n",
       "      <td>1.949687e-02</td>\n",
       "      <td>1.233195e-02</td>\n",
       "      <td>3.745799e+02</td>\n",
       "      <td>1.951704e-02</td>\n",
       "      <td>1.240623e-02</td>\n",
       "      <td>2.096517e+03</td>\n",
       "      <td>5.651747e-01</td>\n",
       "      <td>0.0</td>\n",
       "    </tr>\n",
       "    <tr>\n",
       "      <th>min</th>\n",
       "      <td>6.000000e+01</td>\n",
       "      <td>7.200000e+01</td>\n",
       "      <td>4.068034e+01</td>\n",
       "      <td>-7.401713e+01</td>\n",
       "      <td>7.200000e+01</td>\n",
       "      <td>4.068034e+01</td>\n",
       "      <td>-7.401713e+01</td>\n",
       "      <td>1.452900e+04</td>\n",
       "      <td>0.000000e+00</td>\n",
       "      <td>2014.0</td>\n",
       "    </tr>\n",
       "    <tr>\n",
       "      <th>25%</th>\n",
       "      <td>4.070000e+02</td>\n",
       "      <td>3.050000e+02</td>\n",
       "      <td>4.072083e+01</td>\n",
       "      <td>-7.400026e+01</td>\n",
       "      <td>3.050000e+02</td>\n",
       "      <td>4.072066e+01</td>\n",
       "      <td>-7.400150e+01</td>\n",
       "      <td>1.633000e+04</td>\n",
       "      <td>1.000000e+00</td>\n",
       "      <td>2014.0</td>\n",
       "    </tr>\n",
       "    <tr>\n",
       "      <th>50%</th>\n",
       "      <td>6.510000e+02</td>\n",
       "      <td>4.040000e+02</td>\n",
       "      <td>4.073620e+01</td>\n",
       "      <td>-7.399093e+01</td>\n",
       "      <td>4.030000e+02</td>\n",
       "      <td>4.073535e+01</td>\n",
       "      <td>-7.399099e+01</td>\n",
       "      <td>1.813100e+04</td>\n",
       "      <td>1.000000e+00</td>\n",
       "      <td>2014.0</td>\n",
       "    </tr>\n",
       "    <tr>\n",
       "      <th>75%</th>\n",
       "      <td>1.076000e+03</td>\n",
       "      <td>4.890000e+02</td>\n",
       "      <td>4.074972e+01</td>\n",
       "      <td>-7.398205e+01</td>\n",
       "      <td>4.880000e+02</td>\n",
       "      <td>4.074916e+01</td>\n",
       "      <td>-7.398261e+01</td>\n",
       "      <td>1.993400e+04</td>\n",
       "      <td>1.000000e+00</td>\n",
       "      <td>2014.0</td>\n",
       "    </tr>\n",
       "    <tr>\n",
       "      <th>max</th>\n",
       "      <td>4.017450e+06</td>\n",
       "      <td>3.002000e+03</td>\n",
       "      <td>4.077152e+01</td>\n",
       "      <td>-7.395005e+01</td>\n",
       "      <td>3.002000e+03</td>\n",
       "      <td>4.077152e+01</td>\n",
       "      <td>-7.395005e+01</td>\n",
       "      <td>2.169000e+04</td>\n",
       "      <td>2.000000e+00</td>\n",
       "      <td>2014.0</td>\n",
       "    </tr>\n",
       "  </tbody>\n",
       "</table>\n",
       "</div>"
      ],
      "text/plain": [
       "       tripduration  start station id  start station latitude  \\\n",
       "count  5.359995e+06      5.359995e+06            5.359995e+06   \n",
       "mean   8.765660e+02      4.517112e+02            4.073435e+01   \n",
       "std    2.908049e+03      3.731625e+02            1.949687e-02   \n",
       "min    6.000000e+01      7.200000e+01            4.068034e+01   \n",
       "25%    4.070000e+02      3.050000e+02            4.072083e+01   \n",
       "50%    6.510000e+02      4.040000e+02            4.073620e+01   \n",
       "75%    1.076000e+03      4.890000e+02            4.074972e+01   \n",
       "max    4.017450e+06      3.002000e+03            4.077152e+01   \n",
       "\n",
       "       start station longitude  end station id  end station latitude  \\\n",
       "count             5.359995e+06    5.359995e+06          5.359995e+06   \n",
       "mean             -7.399125e+01    4.513339e+02          4.073406e+01   \n",
       "std               1.233195e-02    3.745799e+02          1.951704e-02   \n",
       "min              -7.401713e+01    7.200000e+01          4.068034e+01   \n",
       "25%              -7.400026e+01    3.050000e+02          4.072066e+01   \n",
       "50%              -7.399093e+01    4.030000e+02          4.073535e+01   \n",
       "75%              -7.398205e+01    4.880000e+02          4.074916e+01   \n",
       "max              -7.395005e+01    3.002000e+03          4.077152e+01   \n",
       "\n",
       "       end station longitude        bikeid        gender       year  \n",
       "count           5.359995e+06  5.359995e+06  5.359995e+06  5359995.0  \n",
       "mean           -7.399136e+01  1.813856e+04  1.086643e+00     2014.0  \n",
       "std             1.240623e-02  2.096517e+03  5.651747e-01        0.0  \n",
       "min            -7.401713e+01  1.452900e+04  0.000000e+00     2014.0  \n",
       "25%            -7.400150e+01  1.633000e+04  1.000000e+00     2014.0  \n",
       "50%            -7.399099e+01  1.813100e+04  1.000000e+00     2014.0  \n",
       "75%            -7.398261e+01  1.993400e+04  1.000000e+00     2014.0  \n",
       "max            -7.395005e+01  2.169000e+04  2.000000e+00     2014.0  "
      ]
     },
     "execution_count": 6,
     "metadata": {},
     "output_type": "execute_result"
    }
   ],
   "source": [
    "citiBike_2014.describe()"
   ]
  },
  {
   "cell_type": "code",
   "execution_count": 15,
   "metadata": {
    "collapsed": false
   },
   "outputs": [
    {
     "name": "stdout",
     "output_type": "stream",
     "text": [
      "CPU times: user 6min 59s, sys: 5.46 s, total: 7min 4s\n",
      "Wall time: 7min 55s\n"
     ]
    }
   ],
   "source": [
    "%%time\n",
    "citiBike_2014['starttime'] = pd.to_datetime(citiBike_2014['starttime'])\n",
    "citiBike_2014['stoptime'] = pd.to_datetime(citiBike_2014['stoptime'])"
   ]
  },
  {
   "cell_type": "code",
   "execution_count": 16,
   "metadata": {
    "collapsed": false
   },
   "outputs": [
    {
     "name": "stdout",
     "output_type": "stream",
     "text": [
      "CPU times: user 19min 46s, sys: 3.83 s, total: 19min 50s\n",
      "Wall time: 1h 40min 28s\n"
     ]
    }
   ],
   "source": [
    "%%time\n",
    "citiBike_2015['starttime'] = pd.to_datetime(citiBike_2015['starttime'])\n",
    "citiBike_2015['stoptime'] = pd.to_datetime(citiBike_2015['stoptime'])"
   ]
  },
  {
   "cell_type": "code",
   "execution_count": 63,
   "metadata": {
    "collapsed": false
   },
   "outputs": [
    {
     "name": "stdout",
     "output_type": "stream",
     "text": [
      "<class 'pandas.core.frame.DataFrame'>\n",
      "Int64Index: 5359995 entries, 0 to 953886\n",
      "Data columns (total 16 columns):\n",
      "tripduration               int64\n",
      "starttime                  object\n",
      "stoptime                   object\n",
      "start station id           int64\n",
      "start station name         object\n",
      "start station latitude     float64\n",
      "start station longitude    float64\n",
      "end station id             int64\n",
      "end station name           object\n",
      "end station latitude       float64\n",
      "end station longitude      float64\n",
      "bikeid                     int64\n",
      "usertype                   object\n",
      "birth year                 object\n",
      "gender                     int64\n",
      "year                       int64\n",
      "dtypes: float64(4), int64(6), object(6)\n",
      "memory usage: 695.2+ MB\n"
     ]
    }
   ],
   "source": [
    "citiBike_2014.info()"
   ]
  },
  {
   "cell_type": "code",
   "execution_count": 17,
   "metadata": {
    "collapsed": false
   },
   "outputs": [
    {
     "name": "stdout",
     "output_type": "stream",
     "text": [
      "CPU times: user 1min 4s, sys: 2.47 s, total: 1min 6s\n",
      "Wall time: 1min 7s\n"
     ]
    }
   ],
   "source": [
    "%%time\n",
    "citiBike_2014['startMonth'] = citiBike_2014['starttime'].apply(lambda x: x.month)\n",
    "citiBike_2014['startDay'] = citiBike_2014['starttime'].apply(lambda x: x.dayofweek)\n",
    "citiBike_2014['startDateDay'] = citiBike_2014['starttime'].apply(lambda x: x.day)\n",
    "dmap = {0:'Mon',1:'Tue',2:'Wed',3:'Thu',4:'Fri',5:'Sat',6:'Sun'}\n",
    "citiBike_2014['startDay'] = citiBike_2014['startDay'].map(dmap)\n",
    "citiBike_2014['startHour'] = citiBike_2014['starttime'].apply(lambda x: x.hour)\n"
   ]
  },
  {
   "cell_type": "code",
   "execution_count": 20,
   "metadata": {
    "collapsed": false
   },
   "outputs": [
    {
     "name": "stdout",
     "output_type": "stream",
     "text": [
      "<class 'pandas.core.frame.DataFrame'>\n",
      "Int64Index: 5359995 entries, 0 to 953886\n",
      "Data columns (total 20 columns):\n",
      "tripduration               int64\n",
      "starttime                  datetime64[ns]\n",
      "stoptime                   datetime64[ns]\n",
      "start station id           int64\n",
      "start station name         object\n",
      "start station latitude     float64\n",
      "start station longitude    float64\n",
      "end station id             int64\n",
      "end station name           object\n",
      "end station latitude       float64\n",
      "end station longitude      float64\n",
      "bikeid                     int64\n",
      "usertype                   object\n",
      "birth year                 object\n",
      "gender                     int64\n",
      "year                       int64\n",
      "startMonth                 int64\n",
      "startDay                   object\n",
      "startDateDay               int64\n",
      "startHour                  int64\n",
      "dtypes: datetime64[ns](2), float64(4), int64(9), object(5)\n",
      "memory usage: 858.8+ MB\n"
     ]
    }
   ],
   "source": [
    "citiBike_2014.info()"
   ]
  },
  {
   "cell_type": "code",
   "execution_count": 13,
   "metadata": {
    "collapsed": true
   },
   "outputs": [],
   "source": [
    "%%time\n",
    "citiBike_2015['startMonth'] = citiBike_2015['starttime'].apply(lambda x: x.month)\n",
    "citiBike_2015['startDay'] = citiBike_2015['starttime'].apply(lambda x: x.dayofweek)\n",
    "citiBike_2015['startDateDay'] = citiBike_2015['starttime'].apply(lambda x: x.day)\n",
    "citiBike_2015['startDay'] = citiBike_2015['startDay'].map(dmap)\n",
    "citiBike_2015['startHour'] = citiBike_2015['starttime'].apply(lambda x: x.hour)\n",
    "citiBike_2015['startDate'] = citiBike_2015['starttime'].apply(lambda x: x.hour)"
   ]
  },
  {
   "cell_type": "markdown",
   "metadata": {},
   "source": [
    "### CitiBike Rides on Various Days of the Week"
   ]
  },
  {
   "cell_type": "code",
   "execution_count": 14,
   "metadata": {
    "collapsed": false
   },
   "outputs": [
    {
     "data": {
      "image/png": "[encoded data removed]",
      "text/plain": [
       "<matplotlib.figure.Figure at 0x113fd4eb8>"
      ]
     },
     "metadata": {},
     "output_type": "display_data"
    }
   ],
   "source": [
    "%%time\n",
    "plt.figure(figsize=(20,6))\n",
    "plt.subplot(1, 2, 1)\n",
    "sns.countplot(x='startDay', data=citiBike_2014)\n",
    "plt.title('2014', fontsize=15)\n",
    "plt.subplot(1, 2, 2)\n",
    "sns.countplot(x='startDay', data=citiBike_2015)\n",
    "plt.title('2015', fontsize=15)\n",
    "plt.tight_layout()\n",
    "plt.show()"
   ]
  },
  {
   "cell_type": "markdown",
   "metadata": {},
   "source": [
    "From the above plot we can conclude that the demand for CitiBikes are usually higher on weekdays as compared to weekends, which are facing a dip in demand across both 2014 and 2015.Also, we are seeing a lesser number of total rides in 2015 as compared to 2014. This can probably be attributed to the winter months present in the data for 2015. But, we will explore the effect of months on rides later.  "
   ]
  },
  {
   "cell_type": "markdown",
   "metadata": {},
   "source": [
    "### COMPARISON OF MONTH VS DAY OF WEEK"
   ]
  },
  {
   "cell_type": "code",
   "execution_count": 15,
   "metadata": {
    "collapsed": false
   },
   "outputs": [
    {
     "data": {
      "image/png": "[encoded data removed]",
      "text/plain": [
       "<matplotlib.figure.Figure at 0x12f22e390>"
      ]
     },
     "metadata": {},
     "output_type": "display_data"
    }
   ],
   "source": [
    "%%time\n",
    "plt.figure(figsize=(20,8))\n",
    "plt.subplot(1, 2, 1)\n",
    "sns.heatmap(citiBike_2014.groupby(['startMonth','startDay']).count()['starttime'].unstack(), cmap='magma', label='2014', vmax=170000, vmin=10000)\n",
    "plt.title('YEAR 2014', size=20)\n",
    "plt.subplot(1, 2, 2)\n",
    "sns.heatmap(citiBike_2015.groupby(['startMonth','startDay']).count()['starttime'].unstack(), cmap='magma', label='2015', vmax=170000, vmin=10000)\n",
    "plt.tight_layout()\n",
    "plt.title('YEAR 2015', size=20 )\n",
    "plt.show()"
   ]
  },
  {
   "cell_type": "markdown",
   "metadata": {},
   "source": [
    "The above heatmap is representing the trend of rides on CitiBike for given Month and Day of the week for 2014 & then 2015. \n",
    "<br>\n",
    "The first we can notice is that there is decreaed ridership during the winter months of January, February, March which makes sense owing to the snowy conditions and low temperature in New York City during these months. Also, we see that the peaks of ridership are occuring in the summer months like May, June. \n",
    "\n",
    "From these indications we can assume that the weather is having a significant impact on the ridership. This also makes sense as the weather and temperature would have a greater impact on CitiBike as compared to Uber and NYC Taxi. In order to see the extent of the effect of weather, i'd like to import weather data and work with that."
   ]
  },
  {
   "cell_type": "markdown",
   "metadata": {},
   "source": [
    "### COMPARISON OF MONTH VS HOUR OF DAY"
   ]
  },
  {
   "cell_type": "code",
   "execution_count": 16,
   "metadata": {
    "collapsed": false
   },
   "outputs": [
    {
     "data": {
      "image/png": "[encoded data removed]",
      "text/plain": [
       "<matplotlib.figure.Figure at 0x17ac59d30>"
      ]
     },
     "metadata": {},
     "output_type": "display_data"
    }
   ],
   "source": [
    "%%time\n",
    "plt.figure(figsize=(20,8))\n",
    "plt.subplot(1, 2, 1)\n",
    "sns.heatmap(citiBike_2014.groupby(['startMonth','startHour']).count()['starttime'].unstack(), cmap='viridis', label='2014')\n",
    "plt.title('YEAR 2014')\n",
    "plt.subplot(1, 2, 2)\n",
    "sns.heatmap(citiBike_2015.groupby(['startMonth','startHour']).count()['starttime'].unstack(), cmap='viridis', label='2015')\n",
    "plt.tight_layout()\n",
    "plt.title('YEAR 2015')\n",
    "plt.show()\n"
   ]
  },
  {
   "cell_type": "code",
   "execution_count": null,
   "metadata": {
    "collapsed": true
   },
   "outputs": [],
   "source": []
  },
  {
   "cell_type": "markdown",
   "metadata": {
    "collapsed": false
   },
   "source": [
    "### TOTAL RIDES BY SUBSCRIBED VS ONE TIME USE CUSTOMERS FOR 2014 & 2015"
   ]
  },
  {
   "cell_type": "code",
   "execution_count": 17,
   "metadata": {
    "collapsed": false
   },
   "outputs": [
    {
     "data": {
      "text/plain": [
       "<matplotlib.text.Text at 0x13bbabe48>"
      ]
     },
     "execution_count": 17,
     "metadata": {},
     "output_type": "execute_result"
    },
    {
     "data": {
      "image/png": "[encoded data removed]",
      "text/plain": [
       "<matplotlib.figure.Figure at 0x11fe8c978>"
      ]
     },
     "metadata": {},
     "output_type": "display_data"
    }
   ],
   "source": [
    "%%time\n",
    "plt.figure(figsize=(20,8))\n",
    "plt.subplot(1, 2, 1)\n",
    "b = sns.countplot(x='usertype', data=citiBike_2014)\n",
    "b.axes.set_ylim(0,5000000)\n",
    "plt.subplot(1, 2, 2)\n",
    "c = sns.countplot(x='usertype', data=citiBike_2015)\n",
    "c.axes.set_ylim(0,5000000)\n",
    "plt.suptitle('Total No. of Rides by Subscribers vs Customers', fontsize=22)"
   ]
  },
  {
   "cell_type": "markdown",
   "metadata": {},
   "source": [
    "### Effect of Holidays on Type of Customer"
   ]
  },
  {
   "cell_type": "markdown",
   "metadata": {},
   "source": [
    "Exploring the effect of holidays on the type of person taking a CitiBike, typically what I would think would be that on these days we should have a greater percentage of First Time/ One Time users as compared to an average day. \n",
    "\n",
    "There were <b>three federal holidays</b> in the time period we saw:\n",
    "<ol>\n",
    "<li>Memorial Day\n",
    "<li>Independence Day\n",
    "<li>Labor Day\n",
    "</ol>\n",
    "These three were taken into account.\n",
    "\n",
    "Below, we explore this using two plots, the first is a countplot outlining the total number of trips on all the holidays with the total trips in 2014. The next is a pie plot showing the same figures for an average day in such a period and not the entire time period. "
   ]
  },
  {
   "cell_type": "code",
   "execution_count": 22,
   "metadata": {
    "collapsed": false
   },
   "outputs": [
    {
     "data": {
      "text/plain": [
       "<matplotlib.text.Text at 0x16337fb00>"
      ]
     },
     "execution_count": 22,
     "metadata": {},
     "output_type": "execute_result"
    },
    {
     "data": {
      "image/png": "[encoded data removed]",
      "text/plain": [
       "<matplotlib.figure.Figure at 0x1587fe2b0>"
      ]
     },
     "metadata": {},
     "output_type": "display_data"
    }
   ],
   "source": [
    "%%time\n",
    "memorial_day = citiBike_2014[(citiBike_2014['startDateDay']==26)&(citiBike_2014['startMonth']==5)]\n",
    "independence_day = citiBike_2014[(citiBike_2014['startDateDay']==4)&(citiBike_2014['startMonth']==7)]\n",
    "labor_day = citiBike_2014[(citiBike_2014['startDateDay']==1)&(citiBike_2014['startMonth']==9)]\n",
    "holidays_2014 = pd.concat([memorial_day,independence_day,labor_day])\n",
    "\n",
    "plt.figure(figsize=(20,8))\n",
    "plt.subplot(1, 2, 1)\n",
    "b = sns.countplot(x='usertype', data=holidays_2014)\n",
    "b.axes.set_ylim(0,50000)\n",
    "plt.subplot(1, 2, 2)\n",
    "c = sns.countplot(x='usertype', data=citiBike_2014)\n",
    "c.axes.set_ylim(0,5000000)\n",
    "plt.suptitle('Total No. of Rides by Subscribers vs Customers On Holidays in 2014', fontsize=22 )\n"
   ]
  },
  {
   "cell_type": "code",
   "execution_count": 23,
   "metadata": {
    "collapsed": false
   },
   "outputs": [
    {
     "data": {
      "text/plain": [
       "<matplotlib.text.Text at 0x16f8b30f0>"
      ]
     },
     "execution_count": 23,
     "metadata": {},
     "output_type": "execute_result"
    },
    {
     "data": {
      "image/png": "[encoded data removed]",
      "text/plain": [
       "<matplotlib.figure.Figure at 0x157b26208>"
      ]
     },
     "metadata": {},
     "output_type": "display_data"
    }
   ],
   "source": [
    "%%time\n",
    "plt.figure(figsize=(20,8))\n",
    "plt.subplot(1, 2, 1)\n",
    "holidays_2014.groupby('usertype').count().apply(lambda x: x/3)['tripduration'].plot.pie(colormap='RdYlGn', autopct='%1.1f%%', fontsize=15)\n",
    "plt.title('Avg. Ridership on Holidays in Time Duration')\n",
    "plt.subplot(1, 2, 2)\n",
    "citiBike_2014.groupby('usertype').count().apply(lambda x: x/183)['tripduration'].plot.pie(colormap='RdYlGn', autopct='%1.1f%%', fontsize=15)\n",
    "plt.title('Avg. Ridership in Time Duration', )\n",
    "plt.suptitle('Total No. of Rides by Subscribers vs Customers On Holidays in 2014(PER DAY)', fontsize=22)\n",
    "\n"
   ]
  },
  {
   "cell_type": "code",
   "execution_count": 24,
   "metadata": {
    "collapsed": false
   },
   "outputs": [
    {
     "data": {
      "image/png": "[encoded data removed]",
      "text/plain": [
       "<matplotlib.figure.Figure at 0x1727ac470>"
      ]
     },
     "metadata": {},
     "output_type": "display_data"
    }
   ],
   "source": [
    "%%time\n",
    "male_2014 = citiBike_2014[citiBike_2014['gender']==1]\n",
    "female_2014 = citiBike_2014[citiBike_2014['gender']==2]\n",
    "male_2015 = citiBike_2015[citiBike_2015['gender']==1]\n",
    "female_2015 = citiBike_2015[citiBike_2015['gender']==2]\n",
    "male = pd.concat([male_2014,male_2015])\n",
    "female = pd.concat([female_2014,female_2015])\n",
    "\n",
    "plt.figure(figsize=(20,8))\n",
    "plt.subplot(1, 2, 1)\n",
    "sns.heatmap(male.groupby(['startDay','startHour']).count()['starttime'].unstack(), cmap='viridis_r', label='Males', vmax=110000, vmin=3000)\n",
    "plt.title('MALES')\n",
    "plt.subplot(1, 2, 2)\n",
    "sns.heatmap(female.groupby(['startDay','startHour']).count()['starttime'].unstack(), cmap='viridis_r', label='Females', vmax=110000, vmin=3000)\n",
    "plt.tight_layout()\n",
    "plt.title('FEMALES')\n",
    "plt.tight_layout()\n",
    "plt.show()\n",
    "\n",
    " "
   ]
  },
  {
   "cell_type": "markdown",
   "metadata": {},
   "source": [
    "### AVG. TRIP DURATION VS. TIME OF DAY & DAY OF WEEK"
   ]
  },
  {
   "cell_type": "code",
   "execution_count": 25,
   "metadata": {
    "collapsed": false
   },
   "outputs": [
    {
     "data": {
      "image/png": "[encoded data removed]",
      "text/plain": [
       "<matplotlib.figure.Figure at 0x162a39550>"
      ]
     },
     "metadata": {},
     "output_type": "display_data"
    }
   ],
   "source": [
    "%%time\n",
    "plt.figure(figsize=(20,8))\n",
    "plt.subplot(1, 2, 1)\n",
    "sns.heatmap(citiBike_2014.groupby(['startDay','startHour']).mean()['tripduration'].apply(lambda x: x/60).unstack(), cmap='viridis', label='2014', vmin=0, vmax=25)\n",
    "plt.title('YEAR 2014')\n",
    "plt.subplot(1, 2, 2)\n",
    "sns.heatmap(citiBike_2015.groupby(['startDay','startHour']).mean()['tripduration'].apply(lambda x: x/60).unstack(), cmap='viridis', label='2015', vmin=0, vmax=25)\n",
    "plt.tight_layout()\n",
    "plt.title('YEAR 2015')\n",
    "plt.show()"
   ]
  },
  {
   "cell_type": "markdown",
   "metadata": {},
   "source": [
    "Trying to observe whether there is any trend within the time of day the trip was started, the day and the trip duration. However, I was unable to see any significant trend within the heatmap above. At most we can see that on <b>Saturday's</b> and <b>Sunday's</b> around <b>12 P.M.</b> till <b>5 P.M.</b> there is a marginal increase in the duration of the trip. This could be attributed to more traffic over the weekends in NYC.  "
   ]
  },
  {
   "cell_type": "markdown",
   "metadata": {},
   "source": [
    "### VISUALIZING THE MOST UTILIZED STATIONS FOR STARTING TRIPS"
   ]
  },
  {
   "cell_type": "code",
   "execution_count": null,
   "metadata": {
    "collapsed": false
   },
   "outputs": [],
   "source": []
  },
  {
   "cell_type": "code",
   "execution_count": 318,
   "metadata": {
    "collapsed": false
   },
   "outputs": [
    {
     "data": {
      "text/html": [
       "<div>\n",
       "<table border=\"1\" class=\"dataframe\">\n",
       "  <thead>\n",
       "    <tr style=\"text-align: right;\">\n",
       "      <th></th>\n",
       "      <th>tripduration</th>\n",
       "      <th>start station id</th>\n",
       "      <th>start station latitude</th>\n",
       "      <th>start station longitude</th>\n",
       "      <th>end station id</th>\n",
       "      <th>end station latitude</th>\n",
       "      <th>end station longitude</th>\n",
       "      <th>bikeid</th>\n",
       "      <th>gender</th>\n",
       "      <th>year</th>\n",
       "      <th>startMonth</th>\n",
       "      <th>startHour</th>\n",
       "      <th>startDateDay</th>\n",
       "    </tr>\n",
       "  </thead>\n",
       "  <tbody>\n",
       "    <tr>\n",
       "      <th>count</th>\n",
       "      <td>4.716939e+06</td>\n",
       "      <td>4.716939e+06</td>\n",
       "      <td>4.716939e+06</td>\n",
       "      <td>4.716939e+06</td>\n",
       "      <td>4.716939e+06</td>\n",
       "      <td>4.716939e+06</td>\n",
       "      <td>4.716939e+06</td>\n",
       "      <td>4.716939e+06</td>\n",
       "      <td>4.716939e+06</td>\n",
       "      <td>4716939.0</td>\n",
       "      <td>4.716939e+06</td>\n",
       "      <td>4.716939e+06</td>\n",
       "      <td>4.716939e+06</td>\n",
       "    </tr>\n",
       "    <tr>\n",
       "      <th>mean</th>\n",
       "      <td>7.807950e+02</td>\n",
       "      <td>4.462299e+02</td>\n",
       "      <td>4.073461e+01</td>\n",
       "      <td>-7.399112e+01</td>\n",
       "      <td>4.447042e+02</td>\n",
       "      <td>4.073427e+01</td>\n",
       "      <td>-7.399126e+01</td>\n",
       "      <td>1.813526e+04</td>\n",
       "      <td>1.234765e+00</td>\n",
       "      <td>2014.0</td>\n",
       "      <td>6.656081e+00</td>\n",
       "      <td>1.401138e+01</td>\n",
       "      <td>1.587391e+01</td>\n",
       "    </tr>\n",
       "    <tr>\n",
       "      <th>std</th>\n",
       "      <td>2.585627e+03</td>\n",
       "      <td>3.586815e+02</td>\n",
       "      <td>1.912072e-02</td>\n",
       "      <td>1.212022e-02</td>\n",
       "      <td>3.573630e+02</td>\n",
       "      <td>1.910424e-02</td>\n",
       "      <td>1.218763e-02</td>\n",
       "      <td>2.094752e+03</td>\n",
       "      <td>4.243413e-01</td>\n",
       "      <td>0.0</td>\n",
       "      <td>1.660799e+00</td>\n",
       "      <td>4.940902e+00</td>\n",
       "      <td>8.742683e+00</td>\n",
       "    </tr>\n",
       "    <tr>\n",
       "      <th>min</th>\n",
       "      <td>6.000000e+01</td>\n",
       "      <td>7.200000e+01</td>\n",
       "      <td>4.068034e+01</td>\n",
       "      <td>-7.401713e+01</td>\n",
       "      <td>7.200000e+01</td>\n",
       "      <td>4.068034e+01</td>\n",
       "      <td>-7.401713e+01</td>\n",
       "      <td>1.452900e+04</td>\n",
       "      <td>0.000000e+00</td>\n",
       "      <td>2014.0</td>\n",
       "      <td>4.000000e+00</td>\n",
       "      <td>0.000000e+00</td>\n",
       "      <td>1.000000e+00</td>\n",
       "    </tr>\n",
       "    <tr>\n",
       "      <th>25%</th>\n",
       "      <td>3.880000e+02</td>\n",
       "      <td>3.050000e+02</td>\n",
       "      <td>4.072182e+01</td>\n",
       "      <td>-7.399995e+01</td>\n",
       "      <td>3.050000e+02</td>\n",
       "      <td>4.072182e+01</td>\n",
       "      <td>-7.400004e+01</td>\n",
       "      <td>1.632800e+04</td>\n",
       "      <td>1.000000e+00</td>\n",
       "      <td>2014.0</td>\n",
       "      <td>5.000000e+00</td>\n",
       "      <td>1.000000e+01</td>\n",
       "      <td>8.000000e+00</td>\n",
       "    </tr>\n",
       "    <tr>\n",
       "      <th>50%</th>\n",
       "      <td>6.050000e+02</td>\n",
       "      <td>4.040000e+02</td>\n",
       "      <td>4.073649e+01</td>\n",
       "      <td>-7.399076e+01</td>\n",
       "      <td>4.040000e+02</td>\n",
       "      <td>4.073588e+01</td>\n",
       "      <td>-7.399093e+01</td>\n",
       "      <td>1.812800e+04</td>\n",
       "      <td>1.000000e+00</td>\n",
       "      <td>2014.0</td>\n",
       "      <td>7.000000e+00</td>\n",
       "      <td>1.500000e+01</td>\n",
       "      <td>1.600000e+01</td>\n",
       "    </tr>\n",
       "    <tr>\n",
       "      <th>75%</th>\n",
       "      <td>9.650000e+02</td>\n",
       "      <td>4.890000e+02</td>\n",
       "      <td>4.074972e+01</td>\n",
       "      <td>-7.398258e+01</td>\n",
       "      <td>4.880000e+02</td>\n",
       "      <td>4.074901e+01</td>\n",
       "      <td>-7.398268e+01</td>\n",
       "      <td>1.992800e+04</td>\n",
       "      <td>1.000000e+00</td>\n",
       "      <td>2014.0</td>\n",
       "      <td>8.000000e+00</td>\n",
       "      <td>1.800000e+01</td>\n",
       "      <td>2.300000e+01</td>\n",
       "    </tr>\n",
       "    <tr>\n",
       "      <th>max</th>\n",
       "      <td>4.017450e+06</td>\n",
       "      <td>3.002000e+03</td>\n",
       "      <td>4.077152e+01</td>\n",
       "      <td>-7.395005e+01</td>\n",
       "      <td>3.002000e+03</td>\n",
       "      <td>4.077152e+01</td>\n",
       "      <td>-7.395005e+01</td>\n",
       "      <td>2.169000e+04</td>\n",
       "      <td>2.000000e+00</td>\n",
       "      <td>2014.0</td>\n",
       "      <td>9.000000e+00</td>\n",
       "      <td>2.300000e+01</td>\n",
       "      <td>3.100000e+01</td>\n",
       "    </tr>\n",
       "  </tbody>\n",
       "</table>\n",
       "</div>"
      ],
      "text/plain": [
       "       tripduration  start station id  start station latitude  \\\n",
       "count  4.716939e+06      4.716939e+06            4.716939e+06   \n",
       "mean   7.807950e+02      4.462299e+02            4.073461e+01   \n",
       "std    2.585627e+03      3.586815e+02            1.912072e-02   \n",
       "min    6.000000e+01      7.200000e+01            4.068034e+01   \n",
       "25%    3.880000e+02      3.050000e+02            4.072182e+01   \n",
       "50%    6.050000e+02      4.040000e+02            4.073649e+01   \n",
       "75%    9.650000e+02      4.890000e+02            4.074972e+01   \n",
       "max    4.017450e+06      3.002000e+03            4.077152e+01   \n",
       "\n",
       "       start station longitude  end station id  end station latitude  \\\n",
       "count             4.716939e+06    4.716939e+06          4.716939e+06   \n",
       "mean             -7.399112e+01    4.447042e+02          4.073427e+01   \n",
       "std               1.212022e-02    3.573630e+02          1.910424e-02   \n",
       "min              -7.401713e+01    7.200000e+01          4.068034e+01   \n",
       "25%              -7.399995e+01    3.050000e+02          4.072182e+01   \n",
       "50%              -7.399076e+01    4.040000e+02          4.073588e+01   \n",
       "75%              -7.398258e+01    4.880000e+02          4.074901e+01   \n",
       "max              -7.395005e+01    3.002000e+03          4.077152e+01   \n",
       "\n",
       "       end station longitude        bikeid        gender       year  \\\n",
       "count           4.716939e+06  4.716939e+06  4.716939e+06  4716939.0   \n",
       "mean           -7.399126e+01  1.813526e+04  1.234765e+00     2014.0   \n",
       "std             1.218763e-02  2.094752e+03  4.243413e-01        0.0   \n",
       "min            -7.401713e+01  1.452900e+04  0.000000e+00     2014.0   \n",
       "25%            -7.400004e+01  1.632800e+04  1.000000e+00     2014.0   \n",
       "50%            -7.399093e+01  1.812800e+04  1.000000e+00     2014.0   \n",
       "75%            -7.398268e+01  1.992800e+04  1.000000e+00     2014.0   \n",
       "max            -7.395005e+01  2.169000e+04  2.000000e+00     2014.0   \n",
       "\n",
       "         startMonth     startHour  startDateDay  \n",
       "count  4.716939e+06  4.716939e+06  4.716939e+06  \n",
       "mean   6.656081e+00  1.401138e+01  1.587391e+01  \n",
       "std    1.660799e+00  4.940902e+00  8.742683e+00  \n",
       "min    4.000000e+00  0.000000e+00  1.000000e+00  \n",
       "25%    5.000000e+00  1.000000e+01  8.000000e+00  \n",
       "50%    7.000000e+00  1.500000e+01  1.600000e+01  \n",
       "75%    8.000000e+00  1.800000e+01  2.300000e+01  \n",
       "max    9.000000e+00  2.300000e+01  3.100000e+01  "
      ]
     },
     "execution_count": 318,
     "metadata": {},
     "output_type": "execute_result"
    }
   ],
   "source": [
    "import datetime\n",
    "import math\n",
    "\n",
    "citiBike_2014[citiBike_2014['usertype']=='Subscriber']\n",
    "citi"
   ]
  },
  {
   "cell_type": "code",
   "execution_count": 40,
   "metadata": {
    "collapsed": false
   },
   "outputs": [],
   "source": [
    "weather_data = pd.read_csv('929752.csv')"
   ]
  },
  {
   "cell_type": "code",
   "execution_count": 41,
   "metadata": {
    "collapsed": false
   },
   "outputs": [],
   "source": [
    "weather_data.drop(['STATION','TAVG','WT01','WT02','WT03','WT04','WT05','WT06','WT08','WT09','WT10','WT11'], axis=1, inplace=True)"
   ]
  },
  {
   "cell_type": "code",
   "execution_count": 45,
   "metadata": {
    "collapsed": false
   },
   "outputs": [
    {
     "data": {
      "text/html": [
       "<div>\n",
       "<table border=\"1\" class=\"dataframe\">\n",
       "  <thead>\n",
       "    <tr style=\"text-align: right;\">\n",
       "      <th></th>\n",
       "      <th>STATION_NAME</th>\n",
       "      <th>DATE</th>\n",
       "      <th>PRCP</th>\n",
       "      <th>SNOW</th>\n",
       "      <th>TMAX</th>\n",
       "      <th>TMIN</th>\n",
       "    </tr>\n",
       "  </thead>\n",
       "  <tbody>\n",
       "    <tr>\n",
       "      <th>0</th>\n",
       "      <td>WHITE PLAINS 3.1 NNW NY US</td>\n",
       "      <td>20140401</td>\n",
       "      <td>0.07</td>\n",
       "      <td>-9999.0</td>\n",
       "      <td>-9999</td>\n",
       "      <td>-9999</td>\n",
       "    </tr>\n",
       "    <tr>\n",
       "      <th>1</th>\n",
       "      <td>WHITE PLAINS 3.1 NNW NY US</td>\n",
       "      <td>20140402</td>\n",
       "      <td>0.00</td>\n",
       "      <td>0.0</td>\n",
       "      <td>-9999</td>\n",
       "      <td>-9999</td>\n",
       "    </tr>\n",
       "    <tr>\n",
       "      <th>2</th>\n",
       "      <td>WHITE PLAINS 3.1 NNW NY US</td>\n",
       "      <td>20140403</td>\n",
       "      <td>0.00</td>\n",
       "      <td>0.0</td>\n",
       "      <td>-9999</td>\n",
       "      <td>-9999</td>\n",
       "    </tr>\n",
       "    <tr>\n",
       "      <th>3</th>\n",
       "      <td>WHITE PLAINS 3.1 NNW NY US</td>\n",
       "      <td>20140406</td>\n",
       "      <td>0.00</td>\n",
       "      <td>0.0</td>\n",
       "      <td>-9999</td>\n",
       "      <td>-9999</td>\n",
       "    </tr>\n",
       "    <tr>\n",
       "      <th>4</th>\n",
       "      <td>WHITE PLAINS 3.1 NNW NY US</td>\n",
       "      <td>20140407</td>\n",
       "      <td>0.00</td>\n",
       "      <td>0.0</td>\n",
       "      <td>-9999</td>\n",
       "      <td>-9999</td>\n",
       "    </tr>\n",
       "  </tbody>\n",
       "</table>\n",
       "</div>"
      ],
      "text/plain": [
       "                 STATION_NAME      DATE  PRCP    SNOW  TMAX  TMIN\n",
       "0  WHITE PLAINS 3.1 NNW NY US  20140401  0.07 -9999.0 -9999 -9999\n",
       "1  WHITE PLAINS 3.1 NNW NY US  20140402  0.00     0.0 -9999 -9999\n",
       "2  WHITE PLAINS 3.1 NNW NY US  20140403  0.00     0.0 -9999 -9999\n",
       "3  WHITE PLAINS 3.1 NNW NY US  20140406  0.00     0.0 -9999 -9999\n",
       "4  WHITE PLAINS 3.1 NNW NY US  20140407  0.00     0.0 -9999 -9999"
      ]
     },
     "execution_count": 45,
     "metadata": {},
     "output_type": "execute_result"
    }
   ],
   "source": [
    "weather_data_NYC = weather_data.copy()\n",
    "weather_data_NYC.head()"
   ]
  },
  {
   "cell_type": "code",
   "execution_count": 49,
   "metadata": {
    "collapsed": false
   },
   "outputs": [],
   "source": [
    "weather_data_NYC['DATE'] = weather_data_NYC['DATE'].apply(lambda x: str(x))\n",
    "\n",
    "weather_data_NYC['YEAR'] = weather_data_NYC['DATE'].apply(lambda x: x[:4])\n",
    "weather_data_NYC['MONTH'] = weather_data_NYC['DATE'].apply(lambda x: x[4:6])\n",
    "weather_data_NYC['DAY'] = weather_data_NYC['DATE'].apply(lambda x: x[7:])"
   ]
  },
  {
   "cell_type": "code",
   "execution_count": 52,
   "metadata": {
    "collapsed": false
   },
   "outputs": [
    {
     "data": {
      "text/html": [
       "<div>\n",
       "<table border=\"1\" class=\"dataframe\">\n",
       "  <thead>\n",
       "    <tr style=\"text-align: right;\">\n",
       "      <th></th>\n",
       "      <th>STATION_NAME</th>\n",
       "      <th>DATE</th>\n",
       "      <th>PRCP</th>\n",
       "      <th>SNOW</th>\n",
       "      <th>TMAX</th>\n",
       "      <th>TMIN</th>\n",
       "      <th>YEAR</th>\n",
       "      <th>MONTH</th>\n",
       "      <th>DAY</th>\n",
       "    </tr>\n",
       "  </thead>\n",
       "  <tbody>\n",
       "    <tr>\n",
       "      <th>9700</th>\n",
       "      <td>NY CITY CENTRAL PARK NY US</td>\n",
       "      <td>20140401</td>\n",
       "      <td>0.00</td>\n",
       "      <td>0.0</td>\n",
       "      <td>60</td>\n",
       "      <td>39</td>\n",
       "      <td>2014</td>\n",
       "      <td>04</td>\n",
       "      <td>1</td>\n",
       "    </tr>\n",
       "    <tr>\n",
       "      <th>9701</th>\n",
       "      <td>NY CITY CENTRAL PARK NY US</td>\n",
       "      <td>20140402</td>\n",
       "      <td>0.00</td>\n",
       "      <td>0.0</td>\n",
       "      <td>54</td>\n",
       "      <td>42</td>\n",
       "      <td>2014</td>\n",
       "      <td>04</td>\n",
       "      <td>2</td>\n",
       "    </tr>\n",
       "    <tr>\n",
       "      <th>9702</th>\n",
       "      <td>NY CITY CENTRAL PARK NY US</td>\n",
       "      <td>20140403</td>\n",
       "      <td>0.07</td>\n",
       "      <td>0.0</td>\n",
       "      <td>67</td>\n",
       "      <td>46</td>\n",
       "      <td>2014</td>\n",
       "      <td>04</td>\n",
       "      <td>3</td>\n",
       "    </tr>\n",
       "    <tr>\n",
       "      <th>9703</th>\n",
       "      <td>NY CITY CENTRAL PARK NY US</td>\n",
       "      <td>20140404</td>\n",
       "      <td>0.21</td>\n",
       "      <td>0.0</td>\n",
       "      <td>47</td>\n",
       "      <td>40</td>\n",
       "      <td>2014</td>\n",
       "      <td>04</td>\n",
       "      <td>4</td>\n",
       "    </tr>\n",
       "    <tr>\n",
       "      <th>9704</th>\n",
       "      <td>NY CITY CENTRAL PARK NY US</td>\n",
       "      <td>20140405</td>\n",
       "      <td>0.00</td>\n",
       "      <td>0.0</td>\n",
       "      <td>54</td>\n",
       "      <td>40</td>\n",
       "      <td>2014</td>\n",
       "      <td>04</td>\n",
       "      <td>5</td>\n",
       "    </tr>\n",
       "  </tbody>\n",
       "</table>\n",
       "</div>"
      ],
      "text/plain": [
       "                    STATION_NAME      DATE  PRCP  SNOW  TMAX  TMIN  YEAR  \\\n",
       "9700  NY CITY CENTRAL PARK NY US  20140401  0.00   0.0    60    39  2014   \n",
       "9701  NY CITY CENTRAL PARK NY US  20140402  0.00   0.0    54    42  2014   \n",
       "9702  NY CITY CENTRAL PARK NY US  20140403  0.07   0.0    67    46  2014   \n",
       "9703  NY CITY CENTRAL PARK NY US  20140404  0.21   0.0    47    40  2014   \n",
       "9704  NY CITY CENTRAL PARK NY US  20140405  0.00   0.0    54    40  2014   \n",
       "\n",
       "     MONTH DAY  \n",
       "9700    04   1  \n",
       "9701    04   2  \n",
       "9702    04   3  \n",
       "9703    04   4  \n",
       "9704    04   5  "
      ]
     },
     "execution_count": 52,
     "metadata": {},
     "output_type": "execute_result"
    }
   ],
   "source": [
    "NYC_citi = weather_data_NYC[weather_data_NYC['STATION_NAME']=='NY CITY CENTRAL PARK NY US']\n",
    "\n",
    "pd.merge(NYC_citi, , left_on='subject_id', right_on='subject_id')"
   ]
  },
  {
   "cell_type": "code",
   "execution_count": null,
   "metadata": {
    "collapsed": true
   },
   "outputs": [],
   "source": []
  }
 ],
 "metadata": {
  "kernelspec": {
   "display_name": "Python 3",
   "language": "python",
   "name": "python3"
  },
  "language_info": {
   "codemirror_mode": {
    "name": "ipython",
    "version": 3
   },
   "file_extension": ".py",
   "mimetype": "text/x-python",
   "name": "python",
   "nbconvert_exporter": "python",
   "pygments_lexer": "ipython3",
   "version": "3.6.0"
  }
 },
 "nbformat": 4,
 "nbformat_minor": 2
}
